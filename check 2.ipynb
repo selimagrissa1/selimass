{
 "cells": [
  {
   "cell_type": "markdown",
   "id": "4d5b2a29",
   "metadata": {},
   "source": [
    "Q1 :"
   ]
  },
  {
   "cell_type": "code",
   "execution_count": 1,
   "id": "c543cad1",
   "metadata": {},
   "outputs": [
    {
     "name": "stdout",
     "output_type": "stream",
     "text": [
      "[2002, 2009, 2016, 2023, 2037, 2044, 2051, 2058, 2072, 2079, 2086, 2093, 2107, 2114, 2121, 2128, 2142, 2149, 2156, 2163, 2177, 2184, 2191, 2198, 2212, 2219, 2226, 2233, 2247, 2254, 2261, 2268, 2282, 2289, 2296, 2303, 2317, 2324, 2331, 2338, 2352, 2359, 2366, 2373, 2387, 2394, 2401, 2408, 2422, 2429, 2436, 2443, 2457, 2464, 2471, 2478, 2492, 2499, 2506, 2513, 2527, 2534, 2541, 2548, 2562, 2569, 2576, 2583, 2597, 2604, 2611, 2618, 2632, 2639, 2646, 2653, 2667, 2674, 2681, 2688, 2702, 2709, 2716, 2723, 2737, 2744, 2751, 2758, 2772, 2779, 2786, 2793, 2807, 2814, 2821, 2828, 2842, 2849, 2856, 2863, 2877, 2884, 2891, 2898, 2912, 2919, 2926, 2933, 2947, 2954, 2961, 2968, 2982, 2989, 2996, 3003, 3017, 3024, 3031, 3038, 3052, 3059, 3066, 3073, 3087, 3094, 3101, 3108, 3122, 3129, 3136, 3143, 3157, 3164, 3171, 3178, 3192, 3199]\n"
     ]
    }
   ],
   "source": [
    "l=[]\n",
    "for i in range (2000,3201) :\n",
    "    if i%7==0 and i%5 !=0 :\n",
    "        l.append(i)\n",
    "print (l)"
   ]
  },
  {
   "cell_type": "markdown",
   "id": "326c76fb",
   "metadata": {},
   "source": [
    "Q2 :"
   ]
  },
  {
   "cell_type": "code",
   "execution_count": 2,
   "id": "126e16c6",
   "metadata": {},
   "outputs": [
    {
     "name": "stdout",
     "output_type": "stream",
     "text": [
      "plz give a number 5\n",
      "factorial of 5 is :  120\n"
     ]
    }
   ],
   "source": [
    "x=int(input(\"plz give a number \"))\n",
    "a=1\n",
    "for i in range (1,x+1) :\n",
    "    a=a*i\n",
    "print(\"factorial of\",x,\"is : \", a)"
   ]
  },
  {
   "cell_type": "markdown",
   "id": "31d6a9a3",
   "metadata": {},
   "source": [
    "Q3 :"
   ]
  },
  {
   "cell_type": "code",
   "execution_count": 3,
   "id": "0f7381ef",
   "metadata": {},
   "outputs": [
    {
     "name": "stdout",
     "output_type": "stream",
     "text": [
      "plz give a number 8\n",
      "{1: 1, 2: 4, 3: 9, 4: 16, 5: 25, 6: 36, 7: 49, 8: 64}\n"
     ]
    }
   ],
   "source": [
    "x=int(input(\"plz give a number \"))\n",
    "d={}\n",
    "for i in range (1,x+1) :\n",
    "    d[i]=i*i\n",
    "print(d)"
   ]
  },
  {
   "cell_type": "markdown",
   "id": "23db0d09",
   "metadata": {},
   "source": [
    "Q4 :"
   ]
  },
  {
   "cell_type": "code",
   "execution_count": 6,
   "id": "1cc0e3f7",
   "metadata": {},
   "outputs": [
    {
     "name": "stdout",
     "output_type": "stream",
     "text": [
      "donnez un mot SVP \n",
      "donnez un mot again SVP \n",
      "donnez un mot again SVP kitten\n",
      "donnez un nombre SVP 9\n",
      "donnez un nombre again SVP 1\n",
      "ktten\n"
     ]
    }
   ],
   "source": [
    "s=input(\"donnez un mot SVP \")\n",
    "while s==\"\" :\n",
    "    s=input(\"donnez un mot again SVP \")\n",
    "x=int(input(\"donnez un nombre SVP \"))\n",
    "y=len(s)\n",
    "while not (x <= y) :\n",
    "    x=int(input(\"donnez un nombre again SVP \"))\n",
    "print(s.replace(s[x],''))"
   ]
  },
  {
   "cell_type": "markdown",
   "id": "0810a384",
   "metadata": {},
   "source": [
    "Q5 :"
   ]
  },
  {
   "cell_type": "code",
   "execution_count": 7,
   "id": "1ce77903",
   "metadata": {},
   "outputs": [
    {
     "name": "stdout",
     "output_type": "stream",
     "text": [
      "array :\n",
      " [[0 1]\n",
      " [2 3]\n",
      " [4 5]]\n",
      "\n",
      " List : [[0, 1], [2, 3], [4, 5]]\n"
     ]
    }
   ],
   "source": [
    "import numpy as np \n",
    "a=np.array([[0,1],[2,3],[4,5]])\n",
    "print(\"array :\\n\",a)\n",
    "l=a.tolist()\n",
    "print(\"\\n List :\",l)"
   ]
  },
  {
   "cell_type": "markdown",
   "id": "a56e26e7",
   "metadata": {},
   "source": [
    "Q6 :"
   ]
  },
  {
   "cell_type": "code",
   "execution_count": 8,
   "id": "ff583aaf",
   "metadata": {},
   "outputs": [
    {
     "name": "stdout",
     "output_type": "stream",
     "text": [
      "[[ 1. -1.]\n",
      " [-1.  1.]]\n"
     ]
    }
   ],
   "source": [
    "import numpy as np \n",
    "a=np.array([[0,1,2]])\n",
    "b=np.array([[2,1,0]])\n",
    "\n",
    "c=np.cov(a,b)\n",
    "print(c)"
   ]
  },
  {
   "cell_type": "markdown",
   "id": "ae5e941d",
   "metadata": {},
   "source": [
    "Q7 :"
   ]
  },
  {
   "cell_type": "code",
   "execution_count": 10,
   "id": "c22f88b9",
   "metadata": {},
   "outputs": [
    {
     "name": "stdout",
     "output_type": "stream",
     "text": [
      "enter numbs 100,150,180\n",
      "D : 100,150,180\n",
      "result : 18,22,24\n"
     ]
    }
   ],
   "source": [
    "import math\n",
    "c = 50\n",
    "h = 30\n",
    "d = input(\"enter numbs \")\n",
    "print(\"D :\",d)\n",
    "y=d.split(\",\")\n",
    "l=[]\n",
    "for i in y :\n",
    "    i=int(i)\n",
    "    q=round(math.sqrt((2*c*i)/h))\n",
    "    ll= l.append(q)\n",
    "    \n",
    "j = [str(int) for int in l]\n",
    "a=\",\".join(j)\n",
    "print(\"result :\",a)"
   ]
  },
  {
   "cell_type": "code",
   "execution_count": null,
   "id": "ea901146",
   "metadata": {},
   "outputs": [],
   "source": []
  }
 ],
 "metadata": {
  "kernelspec": {
   "display_name": "Python 3",
   "language": "python",
   "name": "python3"
  },
  "language_info": {
   "codemirror_mode": {
    "name": "ipython",
    "version": 3
   },
   "file_extension": ".py",
   "mimetype": "text/x-python",
   "name": "python",
   "nbconvert_exporter": "python",
   "pygments_lexer": "ipython3",
   "version": "3.8.8"
  }
 },
 "nbformat": 4,
 "nbformat_minor": 5
}
